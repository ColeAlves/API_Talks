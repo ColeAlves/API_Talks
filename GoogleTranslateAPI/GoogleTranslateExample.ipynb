{
 "cells": [
  {
   "cell_type": "code",
   "execution_count": null,
   "metadata": {},
   "outputs": [],
   "source": [
    "!pip install --upgrade google-cloud-translate"
   ]
  },
  {
   "cell_type": "code",
   "execution_count": 1,
   "metadata": {},
   "outputs": [
    {
     "name": "stdout",
     "output_type": "stream",
     "text": [
      "Text: Guten Tag\n",
      "Translation: Good day\n"
     ]
    }
   ],
   "source": [
    "#Imports the Google Cloud client library\n",
    "from google.cloud import translate\n",
    "\n",
    "#https://www.youtube.com/watch?v=WH7EQFbuIrI\n",
    "#Do not put the json file in a github respository \n",
    "#Instantiates a client\n",
    "translate_client = translate.Client()\n",
    "\n",
    "#The text to translate\n",
    "text = u'Guten Tag'\n",
    "#The target language\n",
    "#English\n",
    "target = 'eng'\n",
    "\n",
    "#Translates some text into Russian\n",
    "translation = translate_client.translate(text, target_language=target)\n",
    "\n",
    "print(u'Text: {}'.format(text))\n",
    "print(u'Translation: {}'.format(translation['translatedText']))"
   ]
  },
  {
   "cell_type": "code",
   "execution_count": null,
   "metadata": {},
   "outputs": [],
   "source": []
  }
 ],
 "metadata": {
  "kernelspec": {
   "display_name": "Python 3",
   "language": "python",
   "name": "python3"
  },
  "language_info": {
   "codemirror_mode": {
    "name": "ipython",
    "version": 3
   },
   "file_extension": ".py",
   "mimetype": "text/x-python",
   "name": "python",
   "nbconvert_exporter": "python",
   "pygments_lexer": "ipython3",
   "version": "3.6.4"
  }
 },
 "nbformat": 4,
 "nbformat_minor": 2
}
