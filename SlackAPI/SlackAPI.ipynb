{
 "cells": [
  {
   "cell_type": "code",
   "execution_count": null,
   "metadata": {},
   "outputs": [],
   "source": [
    "#needed to use for the slack api\n",
    "!pip install slackclient"
   ]
  },
  {
   "cell_type": "code",
   "execution_count": null,
   "metadata": {},
   "outputs": [],
   "source": [
    "#import slack\n",
    "import requests\n",
    "import json\n"
   ]
  },
  {
   "cell_type": "code",
   "execution_count": null,
   "metadata": {},
   "outputs": [],
   "source": [
    "#go to https://umslcomputingclub.slack.com/apps/manage\n",
    "#this is opening a file with the API key so this can be ignored \n",
    "keyFile = open(\"Eggs.txt\", \"r\")\n",
    "#kFile is the web url to send the message too\n",
    "kFile = keyFile.read()\n",
    "\n",
    "#url to send the message too\n",
    "web_hook_url = kFile\n",
    "\n",
    "#text lets us know the message type\n",
    "slack_msg = {'text': 'This is a working message'}\n",
    "\n",
    "#https://www.w3schools.com/python/python_json.asp\n",
    "requests.post(web_hook_url, data = json.dumps(slack_msg))\n",
    "\n",
    "\n"
   ]
  },
  {
   "cell_type": "code",
   "execution_count": null,
   "metadata": {},
   "outputs": [],
   "source": []
  }
 ],
 "metadata": {
  "kernelspec": {
   "display_name": "Python 3",
   "language": "python",
   "name": "python3"
  },
  "language_info": {
   "codemirror_mode": {
    "name": "ipython",
    "version": 3
   },
   "file_extension": ".py",
   "mimetype": "text/x-python",
   "name": "python",
   "nbconvert_exporter": "python",
   "pygments_lexer": "ipython3",
   "version": "3.6.4"
  }
 },
 "nbformat": 4,
 "nbformat_minor": 2
}
